{
  "nbformat": 4,
  "nbformat_minor": 0,
  "metadata": {
    "colab": {
      "provenance": [],
      "authorship_tag": "ABX9TyMiyJuY6nxDt2lKvfWTXcYS",
      "include_colab_link": true
    },
    "kernelspec": {
      "name": "python3",
      "display_name": "Python 3"
    },
    "language_info": {
      "name": "python"
    }
  },
  "cells": [
    {
      "cell_type": "markdown",
      "metadata": {
        "id": "view-in-github",
        "colab_type": "text"
      },
      "source": [
        "<a href=\"https://colab.research.google.com/github/luqmarqs/CarRentalApp/blob/main/votos_psol_proporcional_unicamp.ipynb\" target=\"_parent\"><img src=\"https://colab.research.google.com/assets/colab-badge.svg\" alt=\"Open In Colab\"/></a>"
      ]
    },
    {
      "cell_type": "markdown",
      "source": [
        "Download arquivo descriptografia"
      ],
      "metadata": {
        "id": "1kEDTgFWUHth"
      }
    },
    {
      "cell_type": "code",
      "source": [
        "!curl -s https://raw.githubusercontent.com/andre-marcos-perez/ebac-course-utils/develop/notebooks/2022_11_29/rdv.py -o rdv.py"
      ],
      "metadata": {
        "id": "bamgYxoFYPjM"
      },
      "execution_count": 1,
      "outputs": []
    },
    {
      "cell_type": "code",
      "source": [
        "!pip install asn1crypto==1.5.1"
      ],
      "metadata": {
        "id": "EQew9bbvZ4L2",
        "colab": {
          "base_uri": "https://localhost:8080/"
        },
        "outputId": "fb317e3e-5704-4503-a08b-270c5ef25f41"
      },
      "execution_count": 2,
      "outputs": [
        {
          "output_type": "stream",
          "name": "stdout",
          "text": [
            "Looking in indexes: https://pypi.org/simple, https://us-python.pkg.dev/colab-wheels/public/simple/\n",
            "Collecting asn1crypto==1.5.1\n",
            "  Downloading asn1crypto-1.5.1-py2.py3-none-any.whl (105 kB)\n",
            "\u001b[2K     \u001b[90m━━━━━━━━━━━━━━━━━━━━━━━━━━━━━━━━━━━━━━━\u001b[0m \u001b[32m105.0/105.0 KB\u001b[0m \u001b[31m4.9 MB/s\u001b[0m eta \u001b[36m0:00:00\u001b[0m\n",
            "\u001b[?25hInstalling collected packages: asn1crypto\n",
            "Successfully installed asn1crypto-1.5.1\n"
          ]
        }
      ]
    },
    {
      "cell_type": "markdown",
      "source": [
        "Descriptografando o arquivo"
      ],
      "metadata": {
        "id": "ZrvLgJ_lUfj1"
      }
    },
    {
      "cell_type": "code",
      "source": [
        "!python rdv.py -r o00406-6291002750591.rdv > rdv.txt"
      ],
      "metadata": {
        "id": "xHTxWEvyNd0y",
        "colab": {
          "base_uri": "https://localhost:8080/"
        },
        "outputId": "32832069-a4c0-4b9d-cfe5-53227b940b30"
      },
      "execution_count": 3,
      "outputs": [
        {
          "output_type": "stream",
          "name": "stdout",
          "text": [
            "2023-03-01 12:05:57,812 - INFO - Converte RDV o00406-6291002750591.rdv\n"
          ]
        }
      ]
    },
    {
      "cell_type": "markdown",
      "source": [
        "Pegando as linhas referentes aos votos proporcionais para deputado federal"
      ],
      "metadata": {
        "id": "uYMG3I8GVHiq"
      }
    },
    {
      "cell_type": "code",
      "source": [
        "import re\n",
        "\n",
        "content = []\n",
        "\n",
        "with open(file=\"rdv.txt\", mode=\"r\") as fp:\n",
        "  for line in fp.readlines():\n",
        "      content.append(line)\n",
        "\n",
        "for index, linha in enumerate(content):\n",
        "\n",
        "    if \"Deputado Federal\" in linha:\n",
        "        start = index\n",
        "    if \"Deputado Estadual\" in linha:\n",
        "        end = index\n",
        "\n",
        "print(start)\n",
        "print (end)\n",
        "\n",
        "votosDeputadoFederal = content[start:end]\n",
        "\n",
        "pattern = re.compile(pattern=\"\\[(.*?)\\]\")\n",
        "\n",
        "votes = []\n",
        "\n",
        "for line in votosDeputadoFederal:\n",
        "\n",
        "  if \"branco\" in line:\n",
        "\n",
        "    votes.append({\"voto\": \"branco\", \"quantidade\": 1})\n",
        "\n",
        "  if \"nulo\" in line:\n",
        "\n",
        "    votes.append({\"voto\": \"nulo\", \"quantidade\": 1})\n",
        "\n",
        "  if \"nominal\" in line:\n",
        "\n",
        "    vote = re.findall(pattern=pattern, string=line)[0]\n",
        "    votes.append({\"voto\": f\"{vote}\", \"quantidade\": 1})\n",
        "\n",
        "  if \"legenda\" in line:\n",
        "\n",
        "    vote = re.findall(pattern=pattern, string=line)[0]\n",
        "    votes.append({\"voto\": f\"{vote}\", \"quantidade\": 1})\n",
        "\n",
        "\n",
        "def getPartyVotes (partyVotes, number, votes):\n",
        "  for vote in votes:\n",
        "    if (vote[\"voto\"] == str(number)) :\n",
        "      partyVotes.append(vote)\n",
        "    if (vote[\"voto\"] != \"branco\" and vote[\"voto\"] != \"nulo\"):\n",
        "      if (int(vote[\"voto\"]) >= number*100 and int(vote[\"voto\"]) < (number*100 + 1000)):\n",
        "        partyVotes.append(vote)\n",
        "\n",
        "votosPsol = []\n",
        "getPartyVotes(votosPsol, 50, votes)\n",
        "\n",
        "votosPT = []\n",
        "getPartyVotes(votosPT, 13, votes)\n",
        "\n",
        "votosPcdob = []\n",
        "getPartyVotes(votosPcdob, 65, votes)\n",
        "    \n",
        "\n",
        "print()\n",
        "print()\n",
        "print(\"VOTOS DO PSOL NA UNICAMP:\")\n",
        "\n",
        "for voto in votosPsol:\n",
        "  print(voto)\n",
        "\n",
        "\n",
        "\n",
        "\n",
        "\n",
        "\n",
        "\n",
        "\n",
        "\n",
        "\n",
        "\n",
        "\n"
      ],
      "metadata": {
        "colab": {
          "base_uri": "https://localhost:8080/"
        },
        "id": "PQV256JXUvA_",
        "outputId": "d2577b71-38d9-43d0-b487-26af199a6d46"
      },
      "execution_count": 4,
      "outputs": [
        {
          "output_type": "stream",
          "name": "stdout",
          "text": [
            "330\n",
            "644\n",
            "\n",
            "\n",
            "VOTOS DO PSOL NA UNICAMP:\n",
            "{'voto': '50', 'quantidade': 1}\n",
            "{'voto': '5000', 'quantidade': 1}\n",
            "{'voto': '5000', 'quantidade': 1}\n",
            "{'voto': '5000', 'quantidade': 1}\n",
            "{'voto': '5000', 'quantidade': 1}\n",
            "{'voto': '5000', 'quantidade': 1}\n",
            "{'voto': '5000', 'quantidade': 1}\n",
            "{'voto': '5000', 'quantidade': 1}\n",
            "{'voto': '5000', 'quantidade': 1}\n",
            "{'voto': '5000', 'quantidade': 1}\n",
            "{'voto': '5000', 'quantidade': 1}\n",
            "{'voto': '5000', 'quantidade': 1}\n",
            "{'voto': '5000', 'quantidade': 1}\n",
            "{'voto': '5000', 'quantidade': 1}\n",
            "{'voto': '5010', 'quantidade': 1}\n",
            "{'voto': '5010', 'quantidade': 1}\n",
            "{'voto': '5010', 'quantidade': 1}\n",
            "{'voto': '5010', 'quantidade': 1}\n",
            "{'voto': '5010', 'quantidade': 1}\n",
            "{'voto': '5010', 'quantidade': 1}\n",
            "{'voto': '5010', 'quantidade': 1}\n",
            "{'voto': '5010', 'quantidade': 1}\n",
            "{'voto': '5010', 'quantidade': 1}\n",
            "{'voto': '5010', 'quantidade': 1}\n",
            "{'voto': '5010', 'quantidade': 1}\n",
            "{'voto': '5010', 'quantidade': 1}\n",
            "{'voto': '5010', 'quantidade': 1}\n",
            "{'voto': '5010', 'quantidade': 1}\n",
            "{'voto': '5010', 'quantidade': 1}\n",
            "{'voto': '5010', 'quantidade': 1}\n",
            "{'voto': '5010', 'quantidade': 1}\n",
            "{'voto': '5010', 'quantidade': 1}\n",
            "{'voto': '5010', 'quantidade': 1}\n",
            "{'voto': '5010', 'quantidade': 1}\n",
            "{'voto': '5010', 'quantidade': 1}\n",
            "{'voto': '5010', 'quantidade': 1}\n",
            "{'voto': '5010', 'quantidade': 1}\n",
            "{'voto': '5010', 'quantidade': 1}\n",
            "{'voto': '5010', 'quantidade': 1}\n",
            "{'voto': '5010', 'quantidade': 1}\n",
            "{'voto': '5010', 'quantidade': 1}\n",
            "{'voto': '5010', 'quantidade': 1}\n",
            "{'voto': '5010', 'quantidade': 1}\n",
            "{'voto': '5010', 'quantidade': 1}\n",
            "{'voto': '5010', 'quantidade': 1}\n",
            "{'voto': '5021', 'quantidade': 1}\n",
            "{'voto': '5021', 'quantidade': 1}\n",
            "{'voto': '5021', 'quantidade': 1}\n",
            "{'voto': '5021', 'quantidade': 1}\n",
            "{'voto': '5021', 'quantidade': 1}\n",
            "{'voto': '5033', 'quantidade': 1}\n",
            "{'voto': '5042', 'quantidade': 1}\n",
            "{'voto': '5070', 'quantidade': 1}\n",
            "{'voto': '5070', 'quantidade': 1}\n",
            "{'voto': '5070', 'quantidade': 1}\n",
            "{'voto': '5070', 'quantidade': 1}\n",
            "{'voto': '5070', 'quantidade': 1}\n",
            "{'voto': '5070', 'quantidade': 1}\n",
            "{'voto': '5070', 'quantidade': 1}\n",
            "{'voto': '5070', 'quantidade': 1}\n",
            "{'voto': '5070', 'quantidade': 1}\n",
            "{'voto': '5070', 'quantidade': 1}\n",
            "{'voto': '5088', 'quantidade': 1}\n",
            "{'voto': '5088', 'quantidade': 1}\n",
            "{'voto': '5088', 'quantidade': 1}\n",
            "{'voto': '5088', 'quantidade': 1}\n",
            "{'voto': '5088', 'quantidade': 1}\n",
            "{'voto': '5088', 'quantidade': 1}\n",
            "{'voto': '5088', 'quantidade': 1}\n",
            "{'voto': '5088', 'quantidade': 1}\n",
            "{'voto': '5088', 'quantidade': 1}\n",
            "{'voto': '5088', 'quantidade': 1}\n",
            "{'voto': '5088', 'quantidade': 1}\n",
            "{'voto': '5088', 'quantidade': 1}\n",
            "{'voto': '5088', 'quantidade': 1}\n",
            "{'voto': '5088', 'quantidade': 1}\n",
            "{'voto': '5088', 'quantidade': 1}\n",
            "{'voto': '5088', 'quantidade': 1}\n",
            "{'voto': '5088', 'quantidade': 1}\n",
            "{'voto': '5088', 'quantidade': 1}\n",
            "{'voto': '5088', 'quantidade': 1}\n",
            "{'voto': '5088', 'quantidade': 1}\n",
            "{'voto': '5088', 'quantidade': 1}\n",
            "{'voto': '5088', 'quantidade': 1}\n",
            "{'voto': '5088', 'quantidade': 1}\n",
            "{'voto': '5505', 'quantidade': 1}\n",
            "{'voto': '5552', 'quantidade': 1}\n",
            "{'voto': '5552', 'quantidade': 1}\n",
            "{'voto': '5555', 'quantidade': 1}\n"
          ]
        }
      ]
    }
  ]
}