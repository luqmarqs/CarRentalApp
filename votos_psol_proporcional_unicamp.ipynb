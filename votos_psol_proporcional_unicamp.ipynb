{
  "nbformat": 4,
  "nbformat_minor": 0,
  "metadata": {
    "colab": {
      "provenance": [],
      "authorship_tag": "ABX9TyN+4xOMmBrZJKOM2B9IYaqY",
      "include_colab_link": true
    },
    "kernelspec": {
      "name": "python3",
      "display_name": "Python 3"
    },
    "language_info": {
      "name": "python"
    }
  },
  "cells": [
    {
      "cell_type": "markdown",
      "metadata": {
        "id": "view-in-github",
        "colab_type": "text"
      },
      "source": [
        "<a href=\"https://colab.research.google.com/github/luqmarqs/CarRentalApp/blob/main/votos_psol_proporcional_unicamp.ipynb\" target=\"_parent\"><img src=\"https://colab.research.google.com/assets/colab-badge.svg\" alt=\"Open In Colab\"/></a>"
      ]
    },
    {
      "cell_type": "markdown",
      "source": [
        "Download arquivo descriptografia"
      ],
      "metadata": {
        "id": "1kEDTgFWUHth"
      }
    },
    {
      "cell_type": "code",
      "source": [
        "!curl -s https://raw.githubusercontent.com/andre-marcos-perez/ebac-course-utils/develop/notebooks/2022_11_29/rdv.py -o rdv.py"
      ],
      "metadata": {
        "id": "bamgYxoFYPjM"
      },
      "execution_count": 1,
      "outputs": []
    },
    {
      "cell_type": "code",
      "source": [
        "!pip install asn1crypto==1.5.1"
      ],
      "metadata": {
        "id": "EQew9bbvZ4L2",
        "colab": {
          "base_uri": "https://localhost:8080/"
        },
        "outputId": "38d18d0d-f247-4c87-b067-770f64c8b512"
      },
      "execution_count": 2,
      "outputs": [
        {
          "output_type": "stream",
          "name": "stdout",
          "text": [
            "Looking in indexes: https://pypi.org/simple, https://us-python.pkg.dev/colab-wheels/public/simple/\n",
            "Collecting asn1crypto==1.5.1\n",
            "  Downloading asn1crypto-1.5.1-py2.py3-none-any.whl (105 kB)\n",
            "\u001b[2K     \u001b[90m━━━━━━━━━━━━━━━━━━━━━━━━━━━━━━━━━━━━━━━\u001b[0m \u001b[32m105.0/105.0 KB\u001b[0m \u001b[31m2.9 MB/s\u001b[0m eta \u001b[36m0:00:00\u001b[0m\n",
            "\u001b[?25hInstalling collected packages: asn1crypto\n",
            "Successfully installed asn1crypto-1.5.1\n"
          ]
        }
      ]
    },
    {
      "cell_type": "markdown",
      "source": [
        "Descriptografando o arquivo"
      ],
      "metadata": {
        "id": "ZrvLgJ_lUfj1"
      }
    },
    {
      "cell_type": "code",
      "source": [
        "!python rdv.py -r o00406-6291002750591.rdv > rdv.txt"
      ],
      "metadata": {
        "id": "xHTxWEvyNd0y",
        "colab": {
          "base_uri": "https://localhost:8080/"
        },
        "outputId": "31dc4227-92f4-4aa5-d51d-6bd56c4ed632"
      },
      "execution_count": 3,
      "outputs": [
        {
          "output_type": "stream",
          "name": "stdout",
          "text": [
            "2023-02-28 23:18:56,401 - INFO - Converte RDV o00406-6291002750591.rdv\n"
          ]
        }
      ]
    },
    {
      "cell_type": "markdown",
      "source": [
        "Pegando as linhas referentes aos votos proporcionais para deputado federal"
      ],
      "metadata": {
        "id": "uYMG3I8GVHiq"
      }
    },
    {
      "cell_type": "code",
      "source": [
        "import re\n",
        "\n",
        "content = []\n",
        "\n",
        "with open(file=\"rdv.txt\", mode=\"r\") as fp:\n",
        "  for line in fp.readlines():\n",
        "      content.append(line)\n",
        "\n",
        "for index, linha in enumerate(content):\n",
        "\n",
        "    if \"Deputado Federal\" in linha:\n",
        "        start = index\n",
        "    if \"Deputado Estadual\" in linha:\n",
        "        end = index\n",
        "\n",
        "print(start)\n",
        "print (end)\n",
        "\n",
        "votosDeputadoFederal = content[start:end]\n",
        "\n",
        "pattern = re.compile(pattern=\"\\[(.*?)\\]\")\n",
        "\n",
        "votes = []\n",
        "\n",
        "for line in votosDeputadoFederal:\n",
        "\n",
        "  if \"branco\" in line:\n",
        "\n",
        "    votes.append({\"voto\": \"branco\", \"quantidade\": 1})\n",
        "\n",
        "  if \"nulo\" in line:\n",
        "\n",
        "    votes.append({\"voto\": \"nulo\", \"quantidade\": 1})\n",
        "\n",
        "  if \"nominal\" in line:\n",
        "\n",
        "    vote = re.findall(pattern=pattern, string=line)[0]\n",
        "    votes.append({\"voto\": f\"{vote}\", \"quantidade\": 1})\n",
        "\n",
        "  if \"legenda\" in line:\n",
        "\n",
        "    vote = re.findall(pattern=pattern, string=line)[0]\n",
        "    votes.append({\"voto\": f\"{vote}\", \"quantidade\": 1})\n",
        "\n",
        "print(votes)\n",
        "\n",
        "\n",
        "\n",
        "\n",
        "\n",
        "\n"
      ],
      "metadata": {
        "colab": {
          "base_uri": "https://localhost:8080/"
        },
        "id": "PQV256JXUvA_",
        "outputId": "fa208447-26ba-4ce0-84fc-bb552941352d"
      },
      "execution_count": 7,
      "outputs": [
        {
          "output_type": "stream",
          "name": "stdout",
          "text": [
            "330\n",
            "644\n",
            "[{'voto': '13', 'quantidade': 1}, {'voto': '13', 'quantidade': 1}, {'voto': '13', 'quantidade': 1}, {'voto': '13', 'quantidade': 1}, {'voto': '13', 'quantidade': 1}, {'voto': '13', 'quantidade': 1}, {'voto': '13', 'quantidade': 1}, {'voto': '15', 'quantidade': 1}, {'voto': '15', 'quantidade': 1}, {'voto': '15', 'quantidade': 1}, {'voto': '18', 'quantidade': 1}, {'voto': '22', 'quantidade': 1}, {'voto': '22', 'quantidade': 1}, {'voto': '222', 'quantidade': 1}, {'voto': '30', 'quantidade': 1}, {'voto': '50', 'quantidade': 1}, {'voto': '1000', 'quantidade': 1}, {'voto': '1111', 'quantidade': 1}, {'voto': '1111', 'quantidade': 1}, {'voto': '1112', 'quantidade': 1}, {'voto': '1112', 'quantidade': 1}, {'voto': '1200', 'quantidade': 1}, {'voto': '1200', 'quantidade': 1}, {'voto': '1219', 'quantidade': 1}, {'voto': '1234', 'quantidade': 1}, {'voto': '1319', 'quantidade': 1}, {'voto': '1319', 'quantidade': 1}, {'voto': '1319', 'quantidade': 1}, {'voto': '1319', 'quantidade': 1}, {'voto': '1319', 'quantidade': 1}, {'voto': '1319', 'quantidade': 1}, {'voto': '1319', 'quantidade': 1}, {'voto': '1319', 'quantidade': 1}, {'voto': '1319', 'quantidade': 1}, {'voto': '1319', 'quantidade': 1}, {'voto': '1319', 'quantidade': 1}, {'voto': '1319', 'quantidade': 1}, {'voto': '1319', 'quantidade': 1}, {'voto': '1319', 'quantidade': 1}, {'voto': '1319', 'quantidade': 1}, {'voto': '1319', 'quantidade': 1}, {'voto': '1319', 'quantidade': 1}, {'voto': '1319', 'quantidade': 1}, {'voto': '1319', 'quantidade': 1}, {'voto': '1319', 'quantidade': 1}, {'voto': '1319', 'quantidade': 1}, {'voto': '1319', 'quantidade': 1}, {'voto': '1319', 'quantidade': 1}, {'voto': '1319', 'quantidade': 1}, {'voto': '1319', 'quantidade': 1}, {'voto': '1319', 'quantidade': 1}, {'voto': '1319', 'quantidade': 1}, {'voto': '1319', 'quantidade': 1}, {'voto': '1354', 'quantidade': 1}, {'voto': '1354', 'quantidade': 1}, {'voto': '1388', 'quantidade': 1}, {'voto': '1477', 'quantidade': 1}, {'voto': '1515', 'quantidade': 1}, {'voto': '1550', 'quantidade': 1}, {'voto': '1818', 'quantidade': 1}, {'voto': '1818', 'quantidade': 1}, {'voto': '1818', 'quantidade': 1}, {'voto': '1818', 'quantidade': 1}, {'voto': '1818', 'quantidade': 1}, {'voto': '1818', 'quantidade': 1}, {'voto': '1818', 'quantidade': 1}, {'voto': '1818', 'quantidade': 1}, {'voto': '1818', 'quantidade': 1}, {'voto': '1818', 'quantidade': 1}, {'voto': '1818', 'quantidade': 1}, {'voto': '1818', 'quantidade': 1}, {'voto': '1818', 'quantidade': 1}, {'voto': '1818', 'quantidade': 1}, {'voto': '1818', 'quantidade': 1}, {'voto': '1818', 'quantidade': 1}, {'voto': '1877', 'quantidade': 1}, {'voto': '1877', 'quantidade': 1}, {'voto': '1877', 'quantidade': 1}, {'voto': '1877', 'quantidade': 1}, {'voto': '1877', 'quantidade': 1}, {'voto': '1877', 'quantidade': 1}, {'voto': '1911', 'quantidade': 1}, {'voto': '1911', 'quantidade': 1}, {'voto': '1911', 'quantidade': 1}, {'voto': '1920', 'quantidade': 1}, {'voto': '2020', 'quantidade': 1}, {'voto': '2110', 'quantidade': 1}, {'voto': '2208', 'quantidade': 1}, {'voto': '2210', 'quantidade': 1}, {'voto': '2210', 'quantidade': 1}, {'voto': '2210', 'quantidade': 1}, {'voto': '2210', 'quantidade': 1}, {'voto': '2210', 'quantidade': 1}, {'voto': '2210', 'quantidade': 1}, {'voto': '2210', 'quantidade': 1}, {'voto': '2210', 'quantidade': 1}, {'voto': '2210', 'quantidade': 1}, {'voto': '2210', 'quantidade': 1}, {'voto': '2222', 'quantidade': 1}, {'voto': '2222', 'quantidade': 1}, {'voto': '2222', 'quantidade': 1}, {'voto': '2222', 'quantidade': 1}, {'voto': '2222', 'quantidade': 1}, {'voto': '2222', 'quantidade': 1}, {'voto': '2222', 'quantidade': 1}, {'voto': '2230', 'quantidade': 1}, {'voto': '2230', 'quantidade': 1}, {'voto': '2230', 'quantidade': 1}, {'voto': '2234', 'quantidade': 1}, {'voto': '2243', 'quantidade': 1}, {'voto': '2243', 'quantidade': 1}, {'voto': '2250', 'quantidade': 1}, {'voto': '2250', 'quantidade': 1}, {'voto': '2250', 'quantidade': 1}, {'voto': '2250', 'quantidade': 1}, {'voto': '2255', 'quantidade': 1}, {'voto': '2277', 'quantidade': 1}, {'voto': '2277', 'quantidade': 1}, {'voto': '2290', 'quantidade': 1}, {'voto': '2300', 'quantidade': 1}, {'voto': '2300', 'quantidade': 1}, {'voto': '2300', 'quantidade': 1}, {'voto': '2800', 'quantidade': 1}, {'voto': '3000', 'quantidade': 1}, {'voto': '3000', 'quantidade': 1}, {'voto': '3000', 'quantidade': 1}, {'voto': '3000', 'quantidade': 1}, {'voto': '3000', 'quantidade': 1}, {'voto': '3000', 'quantidade': 1}, {'voto': '3001', 'quantidade': 1}, {'voto': '3001', 'quantidade': 1}, {'voto': '3001', 'quantidade': 1}, {'voto': '3001', 'quantidade': 1}, {'voto': '3030', 'quantidade': 1}, {'voto': '3030', 'quantidade': 1}, {'voto': '3030', 'quantidade': 1}, {'voto': '3055', 'quantidade': 1}, {'voto': '3055', 'quantidade': 1}, {'voto': '3077', 'quantidade': 1}, {'voto': '4000', 'quantidade': 1}, {'voto': '4000', 'quantidade': 1}, {'voto': '4000', 'quantidade': 1}, {'voto': '4000', 'quantidade': 1}, {'voto': '4000', 'quantidade': 1}, {'voto': '4000', 'quantidade': 1}, {'voto': '4000', 'quantidade': 1}, {'voto': '4000', 'quantidade': 1}, {'voto': '4000', 'quantidade': 1}, {'voto': '4004', 'quantidade': 1}, {'voto': '4004', 'quantidade': 1}, {'voto': '4011', 'quantidade': 1}, {'voto': '4040', 'quantidade': 1}, {'voto': '4040', 'quantidade': 1}, {'voto': '4040', 'quantidade': 1}, {'voto': '4040', 'quantidade': 1}, {'voto': '4040', 'quantidade': 1}, {'voto': '4040', 'quantidade': 1}, {'voto': '4040', 'quantidade': 1}, {'voto': '4040', 'quantidade': 1}, {'voto': '4040', 'quantidade': 1}, {'voto': '4040', 'quantidade': 1}, {'voto': '4040', 'quantidade': 1}, {'voto': '4040', 'quantidade': 1}, {'voto': '4040', 'quantidade': 1}, {'voto': '4040', 'quantidade': 1}, {'voto': '4040', 'quantidade': 1}, {'voto': '4040', 'quantidade': 1}, {'voto': '4050', 'quantidade': 1}, {'voto': '4344', 'quantidade': 1}, {'voto': '4400', 'quantidade': 1}, {'voto': '4400', 'quantidade': 1}, {'voto': '4400', 'quantidade': 1}, {'voto': '4400', 'quantidade': 1}, {'voto': '4400', 'quantidade': 1}, {'voto': '4400', 'quantidade': 1}, {'voto': '4400', 'quantidade': 1}, {'voto': '4433', 'quantidade': 1}, {'voto': '4433', 'quantidade': 1}, {'voto': '4433', 'quantidade': 1}, {'voto': '4433', 'quantidade': 1}, {'voto': '4434', 'quantidade': 1}, {'voto': '4469', 'quantidade': 1}, {'voto': '4480', 'quantidade': 1}, {'voto': '4500', 'quantidade': 1}, {'voto': '4500', 'quantidade': 1}, {'voto': '4500', 'quantidade': 1}, {'voto': '4500', 'quantidade': 1}, {'voto': '4500', 'quantidade': 1}, {'voto': '4500', 'quantidade': 1}, {'voto': '4500', 'quantidade': 1}, {'voto': '4500', 'quantidade': 1}, {'voto': '4500', 'quantidade': 1}, {'voto': '4500', 'quantidade': 1}, {'voto': '4500', 'quantidade': 1}, {'voto': '4500', 'quantidade': 1}, {'voto': '4500', 'quantidade': 1}, {'voto': '4500', 'quantidade': 1}, {'voto': '4500', 'quantidade': 1}, {'voto': '4545', 'quantidade': 1}, {'voto': '4586', 'quantidade': 1}, {'voto': '5000', 'quantidade': 1}, {'voto': '5000', 'quantidade': 1}, {'voto': '5000', 'quantidade': 1}, {'voto': '5000', 'quantidade': 1}, {'voto': '5000', 'quantidade': 1}, {'voto': '5000', 'quantidade': 1}, {'voto': '5000', 'quantidade': 1}, {'voto': '5000', 'quantidade': 1}, {'voto': '5000', 'quantidade': 1}, {'voto': '5000', 'quantidade': 1}, {'voto': '5000', 'quantidade': 1}, {'voto': '5000', 'quantidade': 1}, {'voto': '5000', 'quantidade': 1}, {'voto': '5010', 'quantidade': 1}, {'voto': '5010', 'quantidade': 1}, {'voto': '5010', 'quantidade': 1}, {'voto': '5010', 'quantidade': 1}, {'voto': '5010', 'quantidade': 1}, {'voto': '5010', 'quantidade': 1}, {'voto': '5010', 'quantidade': 1}, {'voto': '5010', 'quantidade': 1}, {'voto': '5010', 'quantidade': 1}, {'voto': '5010', 'quantidade': 1}, {'voto': '5010', 'quantidade': 1}, {'voto': '5010', 'quantidade': 1}, {'voto': '5010', 'quantidade': 1}, {'voto': '5010', 'quantidade': 1}, {'voto': '5010', 'quantidade': 1}, {'voto': '5010', 'quantidade': 1}, {'voto': '5010', 'quantidade': 1}, {'voto': '5010', 'quantidade': 1}, {'voto': '5010', 'quantidade': 1}, {'voto': '5010', 'quantidade': 1}, {'voto': '5010', 'quantidade': 1}, {'voto': '5010', 'quantidade': 1}, {'voto': '5010', 'quantidade': 1}, {'voto': '5010', 'quantidade': 1}, {'voto': '5010', 'quantidade': 1}, {'voto': '5010', 'quantidade': 1}, {'voto': '5010', 'quantidade': 1}, {'voto': '5010', 'quantidade': 1}, {'voto': '5010', 'quantidade': 1}, {'voto': '5010', 'quantidade': 1}, {'voto': '5010', 'quantidade': 1}, {'voto': '5021', 'quantidade': 1}, {'voto': '5021', 'quantidade': 1}, {'voto': '5021', 'quantidade': 1}, {'voto': '5021', 'quantidade': 1}, {'voto': '5021', 'quantidade': 1}, {'voto': '5033', 'quantidade': 1}, {'voto': '5042', 'quantidade': 1}, {'voto': '5070', 'quantidade': 1}, {'voto': '5070', 'quantidade': 1}, {'voto': '5070', 'quantidade': 1}, {'voto': '5070', 'quantidade': 1}, {'voto': '5070', 'quantidade': 1}, {'voto': '5070', 'quantidade': 1}, {'voto': '5070', 'quantidade': 1}, {'voto': '5070', 'quantidade': 1}, {'voto': '5070', 'quantidade': 1}, {'voto': '5070', 'quantidade': 1}, {'voto': '5088', 'quantidade': 1}, {'voto': '5088', 'quantidade': 1}, {'voto': '5088', 'quantidade': 1}, {'voto': '5088', 'quantidade': 1}, {'voto': '5088', 'quantidade': 1}, {'voto': '5088', 'quantidade': 1}, {'voto': '5088', 'quantidade': 1}, {'voto': '5088', 'quantidade': 1}, {'voto': '5088', 'quantidade': 1}, {'voto': '5088', 'quantidade': 1}, {'voto': '5088', 'quantidade': 1}, {'voto': '5088', 'quantidade': 1}, {'voto': '5088', 'quantidade': 1}, {'voto': '5088', 'quantidade': 1}, {'voto': '5088', 'quantidade': 1}, {'voto': '5088', 'quantidade': 1}, {'voto': '5088', 'quantidade': 1}, {'voto': '5088', 'quantidade': 1}, {'voto': '5088', 'quantidade': 1}, {'voto': '5088', 'quantidade': 1}, {'voto': '5088', 'quantidade': 1}, {'voto': '5088', 'quantidade': 1}, {'voto': '5088', 'quantidade': 1}, {'voto': '5505', 'quantidade': 1}, {'voto': '5552', 'quantidade': 1}, {'voto': '5552', 'quantidade': 1}, {'voto': '5555', 'quantidade': 1}, {'voto': '6500', 'quantidade': 1}, {'voto': '6565', 'quantidade': 1}, {'voto': '6565', 'quantidade': 1}, {'voto': '9000', 'quantidade': 1}, {'voto': '9000', 'quantidade': 1}, {'voto': '9022', 'quantidade': 1}, {'voto': 'branco', 'quantidade': 1}, {'voto': 'branco', 'quantidade': 1}, {'voto': 'branco', 'quantidade': 1}, {'voto': 'branco', 'quantidade': 1}, {'voto': 'branco', 'quantidade': 1}, {'voto': 'branco', 'quantidade': 1}, {'voto': 'branco', 'quantidade': 1}, {'voto': 'branco', 'quantidade': 1}, {'voto': 'branco', 'quantidade': 1}, {'voto': 'branco', 'quantidade': 1}, {'voto': 'branco', 'quantidade': 1}, {'voto': 'nulo', 'quantidade': 1}, {'voto': 'nulo', 'quantidade': 1}, {'voto': 'nulo', 'quantidade': 1}, {'voto': 'nulo', 'quantidade': 1}, {'voto': 'nulo', 'quantidade': 1}, {'voto': 'nulo', 'quantidade': 1}, {'voto': 'nulo', 'quantidade': 1}]\n"
          ]
        }
      ]
    }
  ]
}